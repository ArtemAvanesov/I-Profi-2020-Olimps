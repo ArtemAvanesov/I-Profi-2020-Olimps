{
 "cells": [
  {
   "cell_type": "code",
   "execution_count": 2,
   "metadata": {},
   "outputs": [
    {
     "name": "stdout",
     "output_type": "stream",
     "text": [
      "11162\n",
      "lr.score train: 77.18%\n",
      "lr.score test: 76.35%\n"
     ]
    }
   ],
   "source": [
    "# Молодой стажёр, решивший попробовать свои силы в анализе финансовых данных,\n",
    "# получил следующее задание в банке. Ему был предоставлен датасет (bank.csv),\n",
    "# представляющий собой данные клиентов банка. Его задача предсказать, будет ли\n",
    "# открывать клиент депозит в этом банке (поле deposit). В качестве модели\n",
    "# классификатора он использовал логистическую регрессию (соотношение тестовой\n",
    "# и тренировочной выборок – 30 на 70). \n",
    "# Датасет можно скачать по ссылке https://yadi.sk/d/eTrQZWqd3ciabw\n",
    "# После проведения классификации confusion matrix будет выглядеть следующим образом: (картинка)\n",
    "\n",
    "import matplotlib.pyplot as plt\n",
    "import pandas as pd\n",
    "import numpy as np\n",
    "from sklearn.model_selection import train_test_split\n",
    "import csv\n",
    "import warnings\n",
    "warnings.filterwarnings('ignore')\n",
    "\n",
    "X = []\n",
    "Y = []\n",
    "array = np.zeros(11162)\n",
    "\n",
    "with open(\"bank.csv\", newline='') as csvfile:\n",
    "    reader = csv.reader(csvfile, delimiter=',')\n",
    "    for row in reader:\n",
    "        X.append(row[:len(row)-1])\n",
    "        Y.append(0 if row[len(row)-1] == 'no' else 1)\n",
    "\n",
    "# Перевод значений с текстовых в числовые (16 столбцов)\n",
    "def rename_text_to_num(data):\n",
    "    for g in range(len(data[0])):    \n",
    "        names = []\n",
    "        for i in range(len(data)):\n",
    "            ren = False\n",
    "            for j in range(len(names)):\n",
    "                if(data[i][g] ==  names[j]):\n",
    "                    data[i][g] = j\n",
    "                    ren = True\n",
    "                    j = len(names)-1\n",
    "            if(ren != True): \n",
    "                names.append(data[i][g])\n",
    "                data[i][g] = len(names)-1\n",
    "    return data\n",
    "\n",
    "X = rename_text_to_num(X)\n",
    "\n",
    "X_train, X_test, y_train, y_test = train_test_split(X, Y, train_size = 0.7)\n",
    "\n",
    "from sklearn.linear_model import LogisticRegression\n",
    "\n",
    "Ir = LogisticRegression()\n",
    "Ir.fit(X_train,y_train)\n",
    "print(\"lr.score train: {:.2f}%\".format(Ir.score(X_train, y_train)*100))\n",
    "print(\"lr.score test: {:.2f}%\".format(Ir.score(X_test, y_test)*100))"
   ]
  },
  {
   "cell_type": "code",
   "execution_count": 13,
   "metadata": {},
   "outputs": [
    {
     "data": {
      "text/plain": [
       "array([[1214,  364],\n",
       "       [ 389, 1382]], dtype=int64)"
      ]
     },
     "execution_count": 13,
     "metadata": {},
     "output_type": "execute_result"
    }
   ],
   "source": [
    "from sklearn.metrics import confusion_matrix\n",
    "y_true = y_test\n",
    "y_pred = Ir.predict(X_test)\n",
    "confusion_matrix(y_true, y_pred, labels=[1, 0])"
   ]
  },
  {
   "cell_type": "code",
   "execution_count": 14,
   "metadata": {},
   "outputs": [
    {
     "name": "stdout",
     "output_type": "stream",
     "text": [
      "[[1382  389]\n",
      " [ 364 1214]]\n"
     ]
    },
    {
     "data": {
      "text/plain": [
       "<matplotlib.axes._subplots.AxesSubplot at 0x2b277a3e7f0>"
      ]
     },
     "execution_count": 14,
     "metadata": {},
     "output_type": "execute_result"
    },
    {
     "data": {
      "image/png": "[encoded data removed]",
      "text/plain": [
       "<Figure size 432x288 with 2 Axes>"
      ]
     },
     "metadata": {
      "needs_background": "light"
     },
     "output_type": "display_data"
    }
   ],
   "source": [
    "from sklearn.utils.multiclass import unique_labels\n",
    "\n",
    "# Построение матрицы путаницы\n",
    "def plot_confusion_matrix(y_true, y_pred, classes, cmap=plt.cm.cubehelix_r):\n",
    "\n",
    "    # Compute confusion matrix\n",
    "    cm = confusion_matrix(y_true, y_pred)\n",
    "    print(cm)\n",
    "\n",
    "    fig, ax = plt.subplots()\n",
    "    im = ax.imshow(cm, interpolation='nearest', cmap=cmap)\n",
    "    ax.figure.colorbar(im, ax=ax)\n",
    "    # We want to show all ticks...\n",
    "    ax.set(xticks=np.arange(cm.shape[1]),\n",
    "           yticks=np.arange(cm.shape[0]),\n",
    "           # ... and label them with the respective list entries\n",
    "           xticklabels=classes, yticklabels=classes,\n",
    "           title='Confusion matrix',\n",
    "           ylabel='True label',\n",
    "           xlabel='Predicted label')\n",
    "\n",
    "    # Rotate the tick labels and set their alignment.\n",
    "    plt.setp(ax.get_xticklabels(), rotation=45, ha=\"right\",\n",
    "             rotation_mode=\"anchor\")\n",
    "\n",
    "    # Loop over data dimensions and create text annotations.\n",
    "    fmt = 'd'\n",
    "    thresh = cm.max() / 2.\n",
    "    for i in range(cm.shape[0]):\n",
    "        for j in range(cm.shape[1]):\n",
    "            ax.text(j, i, format(cm[i, j], fmt),\n",
    "                    ha=\"center\", va=\"center\",\n",
    "                    color=\"white\" if cm[i, j] > thresh else \"black\")\n",
    "    fig.tight_layout()\n",
    "    return ax\n",
    "\n",
    "np.set_printoptions(precision=2)\n",
    "\n",
    "# Plot confusion matrix\n",
    "plot_confusion_matrix(y_test, y_pred, classes=[0,1])"
   ]
  },
  {
   "cell_type": "code",
   "execution_count": null,
   "metadata": {},
   "outputs": [],
   "source": []
  }
 ],
 "metadata": {
  "kernelspec": {
   "display_name": "Python 3",
   "language": "python",
   "name": "python3"
  },
  "language_info": {
   "codemirror_mode": {
    "name": "ipython",
    "version": 3
   },
   "file_extension": ".py",
   "mimetype": "text/x-python",
   "name": "python",
   "nbconvert_exporter": "python",
   "pygments_lexer": "ipython3",
   "version": "3.7.1"
  }
 },
 "nbformat": 4,
 "nbformat_minor": 4
}
