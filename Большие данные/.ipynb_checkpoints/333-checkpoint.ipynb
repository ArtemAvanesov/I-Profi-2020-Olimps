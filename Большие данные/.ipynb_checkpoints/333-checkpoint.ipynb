{
 "cells": [
  {
   "cell_type": "code",
   "execution_count": 18,
   "metadata": {},
   "outputs": [
    {
     "name": "stdout",
     "output_type": "stream",
     "text": [
      "[7.000e+00 6.000e+00 5.000e+00 7.000e+00 5.000e+00 7.000e+00 7.000e+00\n",
      " 1.000e+01 1.200e+01 1.300e+01 1.400e+01 1.600e+01 1.700e+01 1.700e+01\n",
      " 1.600e+01 1.600e+01 1.600e+01 1.500e+01 1.500e+01 1.600e+01 6.666e+03\n",
      " 1.400e+01 1.300e+01 1.100e+01 8.000e+00 8.000e+00 5.000e+00 2.000e+00\n",
      " 2.000e+00 1.000e+00]\n"
     ]
    }
   ],
   "source": [
    "import numpy as np\n",
    "\n",
    "input_x = np.loadtxt('input_x.txt', unpack=False)\n",
    "print(input_x)\n",
    "\n",
    "input_y = np.loadtxt('input_y.txt', unpack=False)\n",
    "print(input_y)\n"
   ]
  },
  {
   "cell_type": "code",
   "execution_count": null,
   "metadata": {},
   "outputs": [],
   "source": []
  },
  {
   "cell_type": "code",
   "execution_count": null,
   "metadata": {},
   "outputs": [],
   "source": []
  }
 ],
 "metadata": {
  "kernelspec": {
   "display_name": "Python 3",
   "language": "python",
   "name": "python3"
  },
  "language_info": {
   "codemirror_mode": {
    "name": "ipython",
    "version": 3
   },
   "file_extension": ".py",
   "mimetype": "text/x-python",
   "name": "python",
   "nbconvert_exporter": "python",
   "pygments_lexer": "ipython3",
   "version": "3.7.1"
  }
 },
 "nbformat": 4,
 "nbformat_minor": 4
}
