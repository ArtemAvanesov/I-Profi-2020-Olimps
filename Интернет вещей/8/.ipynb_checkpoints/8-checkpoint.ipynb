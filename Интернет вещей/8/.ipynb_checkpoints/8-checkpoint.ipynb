{
 "cells": [
  {
   "cell_type": "code",
   "execution_count": 1,
   "metadata": {},
   "outputs": [
    {
     "name": "stdout",
     "output_type": "stream",
     "text": [
      "Done!\n"
     ]
    }
   ],
   "source": [
    "# Для того, чтобы защитить пароли, которые заносятся в базу данных, требуется выполнить следующие действия:\n",
    "# Требуется найти среднее арифметическое цифр в коде ASCII первого символа, после чего полученное число\n",
    "# (с точностью до целого в меньшую сторону) приписывается справа.\n",
    "# Затем слева строки приписывается символ, кодом ASCII которого является число, состоящее из двух цифр,\n",
    "# где первая это 5, а вторая - последняя цифра получившейся строки. Затем полученная строка\n",
    "# хэшируется алгоритмом MD5.\n",
    "# Пример 1\n",
    "# Ввод\n",
    "# IoT19\n",
    "# Вывод\n",
    "# e77e9bb0d0f5bf06e2e9f2477018de20\n",
    "# Пример 2\n",
    "# Ввод\t\n",
    "# 19Rus\n",
    "# Вывод\n",
    "# cddcdbc7223002175e67c20dc2f2874b\n",
    "\n",
    "import hashlib\n",
    "\n",
    "f=open(\"input.txt\")\n",
    "stroka=f.readline()\n",
    "f.close()\n",
    "\n",
    "a = ord(stroka[0])\n",
    "\n",
    "suma = 0\n",
    "i = 0\n",
    "while(a!=0):\n",
    "    i = i+1\n",
    "    suma = suma + a%10\n",
    "    a = a//10\n",
    "    if(a<10): \n",
    "        suma = suma + a%10\n",
    "        i = i+1\n",
    "        a = 0\n",
    "end = int((suma/i)//1)\n",
    "\n",
    "str1 = stroka+str(end)\n",
    "\n",
    "start = chr(int(str(5)+str(str1[len(str1)-1])))\n",
    "answer = str(start)+str(str1)\n",
    "\n",
    "m=hashlib.md5()\n",
    "m.update(str(answer).encode('utf-8'))\n",
    "p = m.hexdigest()\n",
    "\n",
    "f=open(\"output.txt\",'w')\n",
    "f.write(p)\n",
    "f.close()\n",
    "print(\"Done!\")"
   ]
  },
  {
   "cell_type": "code",
   "execution_count": null,
   "metadata": {},
   "outputs": [],
   "source": []
  }
 ],
 "metadata": {
  "kernelspec": {
   "display_name": "Python 3",
   "language": "python",
   "name": "python3"
  },
  "language_info": {
   "codemirror_mode": {
    "name": "ipython",
    "version": 3
   },
   "file_extension": ".py",
   "mimetype": "text/x-python",
   "name": "python",
   "nbconvert_exporter": "python",
   "pygments_lexer": "ipython3",
   "version": "3.7.1"
  }
 },
 "nbformat": 4,
 "nbformat_minor": 4
}
