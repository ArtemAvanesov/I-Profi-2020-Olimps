{
 "cells": [
  {
   "cell_type": "code",
   "execution_count": 1,
   "metadata": {},
   "outputs": [
    {
     "name": "stdout",
     "output_type": "stream",
     "text": [
      "Done!\n"
     ]
    }
   ],
   "source": [
    "# на вход: ip адрес и разрядность маски\n",
    "# на выходе адрес сети по этой маске и исходный ip в двоичном представлении\n",
    "\n",
    "f=open('input.txt')\n",
    "adr=f.readline().split(\".\")\n",
    "mask = f.readline()\n",
    "mask = int(mask)\n",
    "f.close()\n",
    "mask_arr = [0,0,0,0]\n",
    "for i in range (mask//8):\n",
    "    mask_arr[i] = 255\n",
    "s = \"\"    \n",
    "for i in range(8):\n",
    "    if i < mask%8 :\n",
    "        s = s + \"1\"    \n",
    "    else :\n",
    "        s += \"0\"\n",
    "mask_arr[mask//8] = int(s, base = 2)\n",
    "adr2 = [0,0,0,0]\n",
    "res = [0,0,0,0]\n",
    "for i in range(4):\n",
    "    adr2[i] = int(adr[i])   \n",
    "    res[i] = adr2[i]&mask_arr[i]\n",
    "f=open('output.txt','w')\n",
    "f.write(\".\".join(str(i) for i in res))\n",
    "f.write(\"; \")\n",
    "f.write(\".\".join(\"{:08b}\".format(i) for i in adr2))\n",
    "f.close()\n",
    "print(\"Done!\")"
   ]
  },
  {
   "cell_type": "code",
   "execution_count": null,
   "metadata": {},
   "outputs": [],
   "source": []
  }
 ],
 "metadata": {
  "kernelspec": {
   "display_name": "Python 3",
   "language": "python",
   "name": "python3"
  },
  "language_info": {
   "codemirror_mode": {
    "name": "ipython",
    "version": 3
   },
   "file_extension": ".py",
   "mimetype": "text/x-python",
   "name": "python",
   "nbconvert_exporter": "python",
   "pygments_lexer": "ipython3",
   "version": "3.7.1"
  }
 },
 "nbformat": 4,
 "nbformat_minor": 4
}
