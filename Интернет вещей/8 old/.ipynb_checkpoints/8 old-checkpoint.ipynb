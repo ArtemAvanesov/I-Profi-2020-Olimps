{
 "cells": [
  {
   "cell_type": "code",
   "execution_count": 3,
   "metadata": {},
   "outputs": [
    {
     "name": "stdout",
     "output_type": "stream",
     "text": [
      "Done!\n"
     ]
    }
   ],
   "source": [
    "# Перед занесением в базу данных пароля с ним производятся следующие действия: \n",
    "# если последний символ - цифра, то справа приписывается число, полученное по формуле \n",
    "# x=a!−F(a), где x - искомое число, a - цифра, на которую оканчивается пароль,\n",
    "# F - функция получения числа Фибоначчи с номером a. \n",
    "# Если последний символ - буква, то её регистр изменяется. \n",
    "# Затем вычисляется среднее арифметическое всех цифр в пароле с точностью до целого в\n",
    "# большую сторону и приписывается в начало строки (слева), если чисел нет, то приписывается символ @. \n",
    "# Затем полученная строка хэшируется алгоритмом MD5. \n",
    "# Необходимо реализовать описанный алгоритм на одном из языков программирования. \n",
    "# На стандартный вход подается строка (максимальная длинна 20 символов).\n",
    "# На стандартный вывод программа должна подавать строку хэша.\n",
    "# Пример 1\n",
    "# Ввод\n",
    "# IoT2018\n",
    "# Вывод\n",
    "# 71630d41201ec016db994fb5369c1cf4\n",
    "# Пример 2\n",
    "# Ввод\n",
    "# IoT_Russia\n",
    "# Вывод\n",
    "# a79f2e15efd8a4a5211fbb35e22f1c47\n",
    "\n",
    "import numpy as np\n",
    "import math\n",
    "import hashlib\n",
    "\n",
    "def fib(x):\n",
    "    if x==1 or x==0:\n",
    "        return 1\n",
    "    return fib(x-1)+fib(x-2)\n",
    "\n",
    "f=open(\"input.txt\")\n",
    "stroka=f.readline()\n",
    "f.close()\n",
    "\n",
    "if(stroka[len(stroka)-1]<='9' and stroka[len(stroka)-1]>='0'):\n",
    "    x=int(stroka[len(stroka)-1])\n",
    "    x=math.factorial(x)-fib(x-1)\n",
    "    stroka += np.str(x)\n",
    "else:\n",
    "    if (stroka[len(stroka) - 1] <= 'Z' and stroka[len(stroka) - 1] >= 'A'):\n",
    "        stroka=stroka[0:len(stroka) - 1]+chr(ord(stroka[len(stroka) - 1])+32)\n",
    "    if (stroka[len(stroka) - 1] <= 'z' and stroka[len(stroka) - 1] >= 'a'):\n",
    "        str = stroka[0:len(stroka) - 1] +chr(ord(stroka[len(stroka) - 1])-32)\n",
    "\n",
    "sum=0\n",
    "count=0\n",
    "for i in range(len(stroka)):\n",
    "    if (stroka[i] <= '9' and stroka[i] >= '0'):\n",
    "        sum+=int(stroka[i])\n",
    "        count+=1\n",
    "if sum==0:\n",
    "    stroka = \"@\" + stroka\n",
    "else:\n",
    "    stroka=np.str(math.ceil(sum/count))+stroka\n",
    "\n",
    "stroka=stroka.encode('UTF-8')\n",
    "m=hashlib.md5()\n",
    "m.update(stroka)\n",
    "f=open(\"output.txt\",'w')\n",
    "f.write(m.hexdigest())\n",
    "f.close()\n",
    "print(\"Done!\")"
   ]
  },
  {
   "cell_type": "code",
   "execution_count": null,
   "metadata": {},
   "outputs": [],
   "source": []
  }
 ],
 "metadata": {
  "kernelspec": {
   "display_name": "Python 3",
   "language": "python",
   "name": "python3"
  },
  "language_info": {
   "codemirror_mode": {
    "name": "ipython",
    "version": 3
   },
   "file_extension": ".py",
   "mimetype": "text/x-python",
   "name": "python",
   "nbconvert_exporter": "python",
   "pygments_lexer": "ipython3",
   "version": "3.7.1"
  }
 },
 "nbformat": 4,
 "nbformat_minor": 4
}
