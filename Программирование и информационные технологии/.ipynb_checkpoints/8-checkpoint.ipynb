{
 "cells": [
  {
   "cell_type": "code",
   "execution_count": 1,
   "metadata": {},
   "outputs": [],
   "source": [
    "# Задано число вида 2^a⋅3^b⋅5^c⋅7^d. Требуется выяснить, можно ли представить его в виде\n",
    "# произведения факториалов целых чисел.\n",
    "# Формат ввода\n",
    "# На вход подаются четыре целых числа, a, b, c и d(0≤a,b,c,d≤100).\n",
    "# Формат вывода\n",
    "# Если число 2^a⋅3^b⋅5^c⋅7^d может быть представлено как произведение факториалов целых чисел,\n",
    "# выведите «YES». В противном случае выведите «NO».\n",
    "# Пример 1\n",
    "# Ввод\n",
    "# 4 2 1 0\n",
    "# Вывод\n",
    "# YES\n",
    "# Пример 2\n",
    "# Ввод\n",
    "# 0 0 0 1\n",
    "# Вывод\n",
    "# NO\n",
    "# Примечания\n",
    "# В первом примере число равно 2^4⋅3^2⋅5=720=5!⋅3!.\n",
    "# Во втором примере число равно 7 и не является произведением факториалов целых чисел.\n",
    "\n",
    "f=open(\"input.txt\")\n",
    "text=f.read().split(\" \")\n",
    "f.close()\n",
    "\n",
    "a = int(text[0])\n",
    "b = int(text[1])\n",
    "c = int(text[2])\n",
    "d = int(text[3])\n",
    "    \n",
    "def prov(a,b,c,d):\n",
    "    \n",
    "    if(a<2):\n",
    "        answer = \"NO\"\n",
    "        #print(\"#1\")\n",
    "    elif(d<=c and c<=b and b<=a and a>=4*d+3*(c-d)+(2*d+(c-d)) and b>=2*d+(c-d)):\n",
    "        answer = \"YES\"\n",
    "        #print(\"#2\")\n",
    "    else:\n",
    "        answer = \"NO\"\n",
    "        #print(\"#3\")\n",
    "    return answer\n",
    "\n",
    "answer = prov(a,b,c,d)\n",
    "f=open(\"output.txt\",'w')\n",
    "f.write(answer)\n",
    "f.close()"
   ]
  },
  {
   "cell_type": "code",
   "execution_count": null,
   "metadata": {},
   "outputs": [],
   "source": []
  },
  {
   "cell_type": "code",
   "execution_count": null,
   "metadata": {},
   "outputs": [],
   "source": []
  }
 ],
 "metadata": {
  "kernelspec": {
   "display_name": "Python 3",
   "language": "python",
   "name": "python3"
  },
  "language_info": {
   "codemirror_mode": {
    "name": "ipython",
    "version": 3
   },
   "file_extension": ".py",
   "mimetype": "text/x-python",
   "name": "python",
   "nbconvert_exporter": "python",
   "pygments_lexer": "ipython3",
   "version": "3.7.1"
  }
 },
 "nbformat": 4,
 "nbformat_minor": 4
}
