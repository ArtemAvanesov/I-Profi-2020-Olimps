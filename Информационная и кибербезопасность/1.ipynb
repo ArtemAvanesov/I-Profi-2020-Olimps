{
 "cells": [
  {
   "cell_type": "code",
   "execution_count": 22,
   "metadata": {},
   "outputs": [
    {
     "name": "stdout",
     "output_type": "stream",
     "text": [
      "n =  6\n",
      "k =  3\n",
      "Матрица A: \n",
      "[[1 0 1]\n",
      " [1 1 1]\n",
      " [1 1 0]]\n",
      "Матрица A транспанированная: \n",
      "[[1 1 1]\n",
      " [0 1 1]\n",
      " [1 1 0]]\n",
      "Матрица G: \n",
      "[[1. 0. 0. 1. 1. 1.]\n",
      " [0. 1. 0. 0. 1. 1.]\n",
      " [0. 0. 1. 1. 1. 0.]]\n",
      "Матрица X: \n",
      "[1. 1. 1. 2. 3. 2.]\n",
      "Матрица X по модулю 2 (ответ): \n",
      "[1. 1. 1. 0. 1. 0.]\n"
     ]
    }
   ],
   "source": [
    "# Алиса и Боб изучают основы теории кодирования. Они выяснили, что для обработки бинарных сообщений U в двоичном\n",
    "# линейном коде используются проверочная H и порождающая G матрицы. Для двоичного линейного кода эти матрицы могут\n",
    "# быть приведены к виду H(n-k)*n=[A|I(n-k)*(n-k)], Gk*n=[Ik*k|AT], где I - единичная матрица, T - знак транспонирования,\n",
    "# нижние индексы указывают на размерность матрицы, n и k - длина кодового слова и информационной части соответственно,\n",
    "# | - вертикальная конкатенация (склеивание) матриц. Процесс кодирования представляет собой произведение сообщения\n",
    "# на порождающую матрицу: X = UG\n",
    "# Получившийся вектор X называется кодовым словом.\n",
    "# Используя проверочную матрицу H, найдите порождающую матрицу G, с помощью матрицы G, закодируйте информационные\n",
    "# символы u = 111. Все вычисления производятся по модулю 2. В ответ укажите кодовое слово X.\n",
    "\n",
    "import numpy as np\n",
    "\n",
    "# Дано:\n",
    "H = np.array([[1, 0, 1, 1, 0, 0],\n",
    "              [1, 1, 1, 0, 1, 0],\n",
    "              [1, 1, 0, 0, 0, 1]])\n",
    "\n",
    "U = [1, 1, 1]\n",
    "\n",
    "# Решение:\n",
    "n = len(H[0])\n",
    "k = n - len(H[:,0])\n",
    "print(\"n = \", n)\n",
    "print(\"k = \", k)\n",
    "\n",
    "A = H[0:n-k,0:n-k]\n",
    "print(\"Матрица A: \\n{}\".format(A))\n",
    "\n",
    "A_transpouse = np.transpose(A)\n",
    "print(\"Матрица A транспанированная: \\n{}\".format(A_transpouse))\n",
    "\n",
    "I = np.eye(k)\n",
    "G = np.c_[I, A_transpouse]\n",
    "print(\"Матрица G: \\n{}\".format(G))\n",
    "\n",
    "X = np.dot(U,G)\n",
    "print(\"Матрица X: \\n{}\".format(X))\n",
    "\n",
    "for i in range(len(X)):\n",
    "    X[i] = X[i]%2\n",
    "print(\"Матрица X по модулю 2 (ответ): \\n{}\".format(X))"
   ]
  },
  {
   "cell_type": "code",
   "execution_count": null,
   "metadata": {},
   "outputs": [],
   "source": []
  },
  {
   "cell_type": "code",
   "execution_count": null,
   "metadata": {},
   "outputs": [],
   "source": []
  }
 ],
 "metadata": {
  "kernelspec": {
   "display_name": "Python 3",
   "language": "python",
   "name": "python3"
  },
  "language_info": {
   "codemirror_mode": {
    "name": "ipython",
    "version": 3
   },
   "file_extension": ".py",
   "mimetype": "text/x-python",
   "name": "python",
   "nbconvert_exporter": "python",
   "pygments_lexer": "ipython3",
   "version": "3.7.1"
  }
 },
 "nbformat": 4,
 "nbformat_minor": 4
}
