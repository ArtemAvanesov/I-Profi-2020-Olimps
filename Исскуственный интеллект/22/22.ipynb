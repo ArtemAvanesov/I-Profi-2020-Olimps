{
 "cells": [
  {
   "cell_type": "code",
   "execution_count": 1,
   "metadata": {},
   "outputs": [
    {
     "name": "stdout",
     "output_type": "stream",
     "text": [
      "? 1 0 50001\n"
     ]
    },
    {
     "name": "stdin",
     "output_type": "stream",
     "text": [
      " 1\n"
     ]
    },
    {
     "name": "stdout",
     "output_type": "stream",
     "text": [
      "? 1 0 25001\n"
     ]
    },
    {
     "name": "stdin",
     "output_type": "stream",
     "text": [
      " 0\n"
     ]
    },
    {
     "name": "stdout",
     "output_type": "stream",
     "text": [
      "? 1 0 37501\n"
     ]
    },
    {
     "name": "stdin",
     "output_type": "stream",
     "text": [
      " 0\n"
     ]
    },
    {
     "name": "stdout",
     "output_type": "stream",
     "text": [
      "? 1 0 43751\n"
     ]
    },
    {
     "name": "stdin",
     "output_type": "stream",
     "text": [
      " 1\n"
     ]
    },
    {
     "name": "stdout",
     "output_type": "stream",
     "text": [
      "? 1 0 40626\n"
     ]
    },
    {
     "name": "stdin",
     "output_type": "stream",
     "text": [
      " 1\n"
     ]
    },
    {
     "name": "stdout",
     "output_type": "stream",
     "text": [
      "? 1 0 39064\n"
     ]
    },
    {
     "name": "stdin",
     "output_type": "stream",
     "text": [
      " 1\n"
     ]
    },
    {
     "name": "stdout",
     "output_type": "stream",
     "text": [
      "? 1 0 38283\n"
     ]
    },
    {
     "name": "stdin",
     "output_type": "stream",
     "text": [
      " 1\n"
     ]
    },
    {
     "name": "stdout",
     "output_type": "stream",
     "text": [
      "? 1 0 37892\n"
     ]
    },
    {
     "name": "stdin",
     "output_type": "stream",
     "text": [
      " 1\n"
     ]
    },
    {
     "name": "stdout",
     "output_type": "stream",
     "text": [
      "? 1 0 37697\n"
     ]
    },
    {
     "name": "stdin",
     "output_type": "stream",
     "text": [
      " 1\n"
     ]
    },
    {
     "name": "stdout",
     "output_type": "stream",
     "text": [
      "? 1 0 37599\n"
     ]
    },
    {
     "name": "stdin",
     "output_type": "stream",
     "text": [
      " 1\n"
     ]
    },
    {
     "name": "stdout",
     "output_type": "stream",
     "text": [
      "? 1 0 37550\n"
     ]
    },
    {
     "name": "stdin",
     "output_type": "stream",
     "text": [
      " 1\n"
     ]
    },
    {
     "name": "stdout",
     "output_type": "stream",
     "text": [
      "? 1 0 37526\n"
     ]
    },
    {
     "name": "stdin",
     "output_type": "stream",
     "text": [
      " 1\n"
     ]
    },
    {
     "name": "stdout",
     "output_type": "stream",
     "text": [
      "? 1 0 37514\n"
     ]
    },
    {
     "name": "stdin",
     "output_type": "stream",
     "text": [
      " 1\n"
     ]
    },
    {
     "name": "stdout",
     "output_type": "stream",
     "text": [
      "? 1 0 37508\n"
     ]
    },
    {
     "name": "stdin",
     "output_type": "stream",
     "text": [
      " 1\n"
     ]
    },
    {
     "name": "stdout",
     "output_type": "stream",
     "text": [
      "? 1 0 37505\n"
     ]
    },
    {
     "name": "stdin",
     "output_type": "stream",
     "text": [
      " 1\n"
     ]
    },
    {
     "name": "stdout",
     "output_type": "stream",
     "text": [
      "? 1 0 37503\n"
     ]
    },
    {
     "name": "stdin",
     "output_type": "stream",
     "text": [
      " 1\n"
     ]
    },
    {
     "name": "stdout",
     "output_type": "stream",
     "text": [
      "? 1 0 37502\n"
     ]
    },
    {
     "name": "stdin",
     "output_type": "stream",
     "text": [
      " 1\n"
     ]
    },
    {
     "name": "stdout",
     "output_type": "stream",
     "text": [
      "? 1 0 37502\n"
     ]
    },
    {
     "name": "stdin",
     "output_type": "stream",
     "text": [
      " 1\n"
     ]
    },
    {
     "name": "stdout",
     "output_type": "stream",
     "text": [
      "? 0 1 50001\n"
     ]
    },
    {
     "name": "stdin",
     "output_type": "stream",
     "text": [
      " 1\n"
     ]
    },
    {
     "name": "stdout",
     "output_type": "stream",
     "text": [
      "? 0 1 25001\n"
     ]
    },
    {
     "name": "stdin",
     "output_type": "stream",
     "text": [
      " 1\n"
     ]
    },
    {
     "name": "stdout",
     "output_type": "stream",
     "text": [
      "? 0 1 12501\n"
     ]
    },
    {
     "name": "stdin",
     "output_type": "stream",
     "text": [
      " 1\n"
     ]
    },
    {
     "name": "stdout",
     "output_type": "stream",
     "text": [
      "? 0 1 6251\n"
     ]
    },
    {
     "name": "stdin",
     "output_type": "stream",
     "text": [
      " 1\n"
     ]
    },
    {
     "name": "stdout",
     "output_type": "stream",
     "text": [
      "? 0 1 3126\n"
     ]
    },
    {
     "name": "stdin",
     "output_type": "stream",
     "text": [
      " 1\n"
     ]
    },
    {
     "name": "stdout",
     "output_type": "stream",
     "text": [
      "? 0 1 1564\n"
     ]
    },
    {
     "name": "stdin",
     "output_type": "stream",
     "text": [
      " 1\n"
     ]
    },
    {
     "name": "stdout",
     "output_type": "stream",
     "text": [
      "? 0 1 783\n"
     ]
    },
    {
     "name": "stdin",
     "output_type": "stream",
     "text": [
      " 1\n"
     ]
    },
    {
     "name": "stdout",
     "output_type": "stream",
     "text": [
      "? 0 1 392\n"
     ]
    },
    {
     "name": "stdin",
     "output_type": "stream",
     "text": [
      " 1\n"
     ]
    },
    {
     "name": "stdout",
     "output_type": "stream",
     "text": [
      "? 0 1 197\n"
     ]
    },
    {
     "name": "stdin",
     "output_type": "stream",
     "text": [
      " 1\n"
     ]
    },
    {
     "name": "stdout",
     "output_type": "stream",
     "text": [
      "? 0 1 99\n"
     ]
    },
    {
     "name": "stdin",
     "output_type": "stream",
     "text": [
      " 1\n"
     ]
    },
    {
     "name": "stdout",
     "output_type": "stream",
     "text": [
      "? 0 1 50\n"
     ]
    },
    {
     "name": "stdin",
     "output_type": "stream",
     "text": [
      " 1\n"
     ]
    },
    {
     "name": "stdout",
     "output_type": "stream",
     "text": [
      "? 0 1 26\n"
     ]
    },
    {
     "name": "stdin",
     "output_type": "stream",
     "text": [
      " 1\n"
     ]
    },
    {
     "name": "stdout",
     "output_type": "stream",
     "text": [
      "? 0 1 14\n"
     ]
    },
    {
     "name": "stdin",
     "output_type": "stream",
     "text": [
      " 1\n"
     ]
    },
    {
     "name": "stdout",
     "output_type": "stream",
     "text": [
      "? 0 1 8\n"
     ]
    },
    {
     "name": "stdin",
     "output_type": "stream",
     "text": [
      " 1\n"
     ]
    },
    {
     "name": "stdout",
     "output_type": "stream",
     "text": [
      "? 0 1 5\n"
     ]
    },
    {
     "name": "stdin",
     "output_type": "stream",
     "text": [
      " 1\n"
     ]
    },
    {
     "name": "stdout",
     "output_type": "stream",
     "text": [
      "? 0 1 3\n"
     ]
    },
    {
     "name": "stdin",
     "output_type": "stream",
     "text": [
      " 1\n"
     ]
    },
    {
     "name": "stdout",
     "output_type": "stream",
     "text": [
      "? 0 1 2\n"
     ]
    },
    {
     "name": "stdin",
     "output_type": "stream",
     "text": [
      " 1\n"
     ]
    },
    {
     "name": "stdout",
     "output_type": "stream",
     "text": [
      "? 0 1 2\n"
     ]
    },
    {
     "name": "stdin",
     "output_type": "stream",
     "text": [
      " 1\n"
     ]
    },
    {
     "name": "stdout",
     "output_type": "stream",
     "text": [
      "! 37501 1\n"
     ]
    }
   ],
   "source": [
    "# Загадана некоторая клетка в таблице 105×105. Вам нужно написать программу, отгадывающую координаты \n",
    "# (x,y) этой клетки 1≤x,y≤105. Программа может задавать вопросы вида «Верно ли, что ax+by<c» для целых \n",
    "# a,b,c. Нужно привести алгоритм, который отгадает координаты x,y, не более, чем за 50 запросов.\n",
    "# Не забывайте делать операцию ’ﬂush’ после вывода ответа. За вывод ответа платить не нужно.\n",
    "# Вы получите вердикт Wrong Answer, если:\n",
    "# - Вы потратили больше 50 запросов.\n",
    "# - Итоговый ответ не является правильным.\n",
    "# Вы получите вердикт Presentation Error, если:\n",
    "# - Вопрос или ответ не соответствует описанному выше формату.\n",
    "# Параметры a,b в вашем запросе меньше −100 или больше 100 или параметр c меньше −107 или больше 107.\n",
    "# Вы получите вердикт Idleness Limit Exceeded, если не будете ничего выводить\n",
    "# (а тестирующая программа будет ожидать ввода) или забудете сделать операцию ’ﬂush’ после какого-нибудь\n",
    "# вывода (смотрите ниже). Если ваша программа написанная на интерпретируемом языке (например Python)\n",
    "# получает какую-либо ошибку исполнения, во время общения с интерактором, то возможно получение любого\n",
    "# вердикта Presentation Error/Wrong Answer/Idleness Limit Exceeded, поскольку сообщение об ошибке передается\n",
    "# интерактору и может быть воспринято по разному.\n",
    "\n",
    "# Формат ввода\n",
    "# Это интерактивная задача.\n",
    "# Тестируемой программе не подается никаких входных данных.\n",
    "# Тестируемая программа пишет запросы и получает на них ответы от программы интерактора.\n",
    "\n",
    "# Формат вывода\n",
    "# Ваша программа может отправлять следующие запросы:\n",
    "# «? a b c» — запрос «Верно ли, что ax+by<c», где a,b — целые числа от −100 до 100 и c — целое число −107 до 107.\n",
    "# Если ax+by<c то ваша программа получит ответ 1, если нет, то ответ будет 0.\n",
    "# «! x y» — угадывание координат x,y. Сразу после этого ваша программа должна завершиться.\n",
    "# Каждый запрос должен быть на отдельной строке. Вывод, не совпадающий ни с одним запросом, будет приводить\n",
    "# к ошибке представления. Приведем пример корректного взаимодействия программы и интерактора, если загадана\n",
    "# клетка с координатами (1,1). Строчки с выводом интерактора отмечены знаками »\n",
    "# ? 2 3 5\n",
    "# » 0 \n",
    "# ? 2 3 6\n",
    "# » 1 \n",
    "# ? 1 1 2\n",
    "# » 0 \n",
    "# ? 1 1 3\n",
    "# » 1\n",
    "# ! 1 1\n",
    "\n",
    "import sys\n",
    "import math\n",
    "\n",
    "a = 1\n",
    "b = 0\n",
    " \n",
    "q_count = 0\n",
    "\n",
    "interval_start = 1\n",
    "interval_end = 100001\n",
    "count_intervals = 5\n",
    "\n",
    "def f(interval_start, interval_end, count_intervals):\n",
    "    flag = False\n",
    "    interval_size = interval_end-interval_start\n",
    "    for i in range(1,count_intervals):\n",
    "        global q_count\n",
    "        q_count +=1\n",
    "        c = int(i* math.ceil(interval_size/count_intervals) + interval_start) \n",
    "        print(\"?\", a, b, c)\n",
    "        sys.stdout.flush()\n",
    "        answer = int(input())\n",
    "        if (answer): \n",
    "            flag = True\n",
    "            break\n",
    "    if (not flag):\n",
    "        interval_start = int(interval_end - math.ceil(interval_size/count_intervals))\n",
    "    else:\n",
    "        interval_start = int(c - math.ceil(interval_size/count_intervals))\n",
    "        interval_end = c\n",
    "    return interval_start, interval_end\n",
    "\n",
    "steps = [2, 2, 2, 2, 2, 2, 2, 2, 2, 2, 2, 2, 2, 2, 2, 2, 2, 2]\n",
    "\n",
    "interval_start, interval_end = 1, 100001\n",
    "for i in steps:\n",
    "    interval_start, interval_end = f(interval_start, interval_end, i)\n",
    "\n",
    "x = interval_start\n",
    "\n",
    "a = 0\n",
    "b = 1\n",
    "\n",
    "interval_start, interval_end = 1, 100001\n",
    "\n",
    "steps = [2, 2, 2, 2, 2, 2, 2, 2, 2, 2, 2, 2, 2, 2, 2, 2, 2, 2]\n",
    "\n",
    "for i in steps:\n",
    "    interval_start, interval_end = f(interval_start, interval_end, i)\n",
    "\n",
    "y = interval_start\n",
    "\n",
    "print(\"!\", x, y)\n",
    "\n",
    "sys.stdout.flush()"
   ]
  },
  {
   "cell_type": "code",
   "execution_count": null,
   "metadata": {},
   "outputs": [],
   "source": []
  }
 ],
 "metadata": {
  "kernelspec": {
   "display_name": "Python 3",
   "language": "python",
   "name": "python3"
  },
  "language_info": {
   "codemirror_mode": {
    "name": "ipython",
    "version": 3
   },
   "file_extension": ".py",
   "mimetype": "text/x-python",
   "name": "python",
   "nbconvert_exporter": "python",
   "pygments_lexer": "ipython3",
   "version": "3.7.1"
  }
 },
 "nbformat": 4,
 "nbformat_minor": 4
}
