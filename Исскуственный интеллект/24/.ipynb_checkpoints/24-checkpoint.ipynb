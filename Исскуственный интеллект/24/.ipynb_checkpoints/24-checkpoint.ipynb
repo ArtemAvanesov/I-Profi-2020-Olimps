{
 "cells": [
  {
   "cell_type": "code",
   "execution_count": 11,
   "metadata": {},
   "outputs": [
    {
     "name": "stdout",
     "output_type": "stream",
     "text": [
      "Сумма ошибок на тесте: 179.71146471746033\n",
      "\n",
      "forest.score train: 98.93%\n",
      "forest.score test: 95.22%\n",
      "\n"
     ]
    }
   ],
   "source": [
    "# Задана функция \n",
    "# f:R10→R. Вам нужно предсказать значения функции на тестовых данных, обучившись на размеченных данных.\n",
    "# Метрика качества Mean Average Error ∑99i=0∣∣fpredicted(xi)−f(xi)∣∣. Посылка будет засчитана, если ошибка\n",
    "# будет не больше, чем 3000. Размеченные данные: i,xi,f(xi) для 0≤i≤999. Где xi — десятимерные вектора.\n",
    "# Тестовые данные: i,xi для 0≤i≤99. Где xi — десятимерные вектора.\n",
    "# Размеченные данные: https://yadi.sk/d/tEil2lNBYtnh4g\n",
    "# Тестовые данные: https://yadi.sk/d/iSai8IaoreHAPQ\n",
    "# Пример сабмита: https://yadi.sk/d/EpTbazRIojhM2w\n",
    "# Формат вывода\n",
    "# Файл должен состоять из 101 строки, первая строка: ,Predict.\n",
    "# Следующие 100 строк имеют вид: i,f(xi).\n",
    "\n",
    "import numpy as np\n",
    "from sklearn.ensemble import RandomForestRegressor\n",
    "from sklearn.model_selection import train_test_split\n",
    "import warnings\n",
    "warnings.filterwarnings('ignore')\n",
    "\n",
    "data = np.loadtxt('train_data_regression.csv', delimiter=',', unpack=False)\n",
    "data_train = data[:,1:11]\n",
    "precision_train = data[:,11:12]\n",
    "\n",
    "X_train, X_test, y_train, y_test = train_test_split(data_train, precision_train, random_state=42)\n",
    "\n",
    "data2 = np.loadtxt('test_data_regression.csv', delimiter=',', unpack=False)\n",
    "data_test = data2[:,1:11]\n",
    "\n",
    "forest = RandomForestRegressor()\n",
    "forest.fit(X_train,y_train)\n",
    "\n",
    "a = forest.predict(X_test)\n",
    "b = y_test\n",
    "sum = 0\n",
    "for i in range(len(a)):\n",
    "    sum = sum + abs(a[i]-b[i])\n",
    "print(\"Сумма ошибок на тесте: {}\\n\".format(sum[0]))\n",
    "\n",
    "print(\"forest.score train: {:.2f}%\".format(forest.score(X_train, y_train)*100))\n",
    "print(\"forest.score test: {:.2f}%\\n\".format(forest.score(X_test, y_test)*100))\n",
    "\n",
    "answer = forest.predict(data_test)\n",
    "\n",
    "f=open(\"output.txt\",'w')\n",
    "f.write(\",Predict\\n\")\n",
    "for i in range(len(answer)):\n",
    "    f.write(str(i) + \",\"+ str(answer[i])+\"\\n\")\n",
    "f.close()"
   ]
  },
  {
   "cell_type": "code",
   "execution_count": null,
   "metadata": {},
   "outputs": [],
   "source": []
  }
 ],
 "metadata": {
  "kernelspec": {
   "display_name": "Python 3",
   "language": "python",
   "name": "python3"
  },
  "language_info": {
   "codemirror_mode": {
    "name": "ipython",
    "version": 3
   },
   "file_extension": ".py",
   "mimetype": "text/x-python",
   "name": "python",
   "nbconvert_exporter": "python",
   "pygments_lexer": "ipython3",
   "version": "3.7.1"
  }
 },
 "nbformat": 4,
 "nbformat_minor": 4
}
