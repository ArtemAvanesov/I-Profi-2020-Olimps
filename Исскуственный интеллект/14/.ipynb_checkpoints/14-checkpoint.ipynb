{
 "cells": [
  {
   "cell_type": "code",
   "execution_count": 2,
   "metadata": {},
   "outputs": [
    {
     "name": "stdout",
     "output_type": "stream",
     "text": [
      "0.54\n"
     ]
    }
   ],
   "source": [
    "# Предположим, что на очередном этапе построения дерева в вершину попали 15 объектов класса «1», 5 объектов\n",
    "# класса «2» и 30 объектов класса «3». Чему будет равно значение критерия Джини в этой вершине?\n",
    "# Ответ округлите до двух знаков после точки. (цифра 5 округляется в большую сторону, 0.005→0.01)\n",
    "\n",
    "cl1 = 15\n",
    "cl2 = 5\n",
    "cl3 = 30\n",
    "\n",
    "cl_all = cl1+cl2+cl3\n",
    "\n",
    "p1 = cl1/cl_all\n",
    "p2 = cl2/cl_all\n",
    "p3 = cl3/cl_all\n",
    "\n",
    "# L = 1 - сумма по количесвту классов вероятностей принадлежности к классу\n",
    "L = 1 - (p1**2 + p2**2 + p3**2)\n",
    "\n",
    "print(L)"
   ]
  },
  {
   "cell_type": "code",
   "execution_count": null,
   "metadata": {},
   "outputs": [],
   "source": []
  }
 ],
 "metadata": {
  "kernelspec": {
   "display_name": "Python 3",
   "language": "python",
   "name": "python3"
  },
  "language_info": {
   "codemirror_mode": {
    "name": "ipython",
    "version": 3
   },
   "file_extension": ".py",
   "mimetype": "text/x-python",
   "name": "python",
   "nbconvert_exporter": "python",
   "pygments_lexer": "ipython3",
   "version": "3.7.1"
  }
 },
 "nbformat": 4,
 "nbformat_minor": 4
}
