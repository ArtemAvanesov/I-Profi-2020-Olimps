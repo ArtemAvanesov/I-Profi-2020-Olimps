{
 "cells": [
  {
   "cell_type": "code",
   "execution_count": 17,
   "metadata": {},
   "outputs": [
    {
     "name": "stdout",
     "output_type": "stream",
     "text": [
      "Размер исходных данных:  (1620, 12)\n",
      "Lr.coef:[ 1.35903681  2.1502148   0.25730829  0.23482047  0.53806929 -0.1749173\n",
      "  0.52901864  0.25688666  0.55473105  0.02568728]\n",
      "Lr.score train: 100.00%\n",
      "Lr.score test: 100.00%\n",
      "\n"
     ]
    }
   ],
   "source": [
    "# Вам даны точки в 10-мерном пространстве помеченные метками ±1. Вам нужно разделить их гиперплоскостью так,\n",
    "# что все точки с меткой 1 были с одной стороны от гиперплоскости, а все точки с меткой −1 с другой.\n",
    "# Гиперплоскостью в 10-мерном простанстве называется множество точек удовлятворяющие уравнению a0x0+a1x1+⋯+a9x9=c.\n",
    "# Данные: https://yadi.sk/d/1wDTDqI-_jvi9FQ\n",
    "\n",
    "# Формат вывода\n",
    "# Ответ - вектор перпендикулярный гиперплоскости - 10 действительных чисел разделенных пробелом на одной строке.\n",
    "# Десятичный разделитель - точка.\n",
    "# Если ваша гиперплоскоcть иметь уравнение a0x0+a1x1+…a9x9=c, то в ответ требуется вывести числа a0,a1,…,a9.\n",
    "# Параметр c вводить не нужно.\n",
    "\n",
    "from sklearn.linear_model import LogisticRegression\n",
    "from sklearn.model_selection import train_test_split\n",
    "import numpy as np\n",
    "import warnings\n",
    "warnings.filterwarnings('ignore')\n",
    "\n",
    "data = np.loadtxt('train_data_linearly_sep.csv', delimiter=',', unpack=False, skiprows=1)\n",
    "X = data[:,1:11]\n",
    "y = data[:,11:12]\n",
    "print(\"Размер исходных данных: \", data.shape)\n",
    "\n",
    "for i in range(len(y)):\n",
    "    if(y[i] == -1):\n",
    "        y[i]=0\n",
    "    else: y[i]=1\n",
    "\n",
    "X_train, X_test, y_train, y_test = train_test_split(X, y, random_state = 42)\n",
    "\n",
    "Lr = LogisticRegression()\n",
    "Lr.fit(X_train,y_train)\n",
    "\n",
    "answer = Lr.coef_[0]\n",
    "print(\"Lr.coef:{}\".format(answer))\n",
    "print(\"Lr.score train: {:.2f}%\".format(Lr.score(X_train, y_train)*100))\n",
    "print(\"Lr.score test: {:.2f}%\\n\".format(Lr.score(X_test, y_test)*100))\n",
    "\n",
    "f=open(\"output.txt\",'w')\n",
    "for i in range(len(answer)):\n",
    "    f.write(str(answer[i])+\" \")\n",
    "f.close()"
   ]
  },
  {
   "cell_type": "code",
   "execution_count": null,
   "metadata": {},
   "outputs": [],
   "source": []
  }
 ],
 "metadata": {
  "kernelspec": {
   "display_name": "Python 3",
   "language": "python",
   "name": "python3"
  },
  "language_info": {
   "codemirror_mode": {
    "name": "ipython",
    "version": 3
   },
   "file_extension": ".py",
   "mimetype": "text/x-python",
   "name": "python",
   "nbconvert_exporter": "python",
   "pygments_lexer": "ipython3",
   "version": "3.7.1"
  }
 },
 "nbformat": 4,
 "nbformat_minor": 4
}
