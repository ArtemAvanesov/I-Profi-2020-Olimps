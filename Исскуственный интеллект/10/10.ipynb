{
 "cells": [
  {
   "cell_type": "code",
   "execution_count": 5,
   "metadata": {},
   "outputs": [
    {
     "name": "stdout",
     "output_type": "stream",
     "text": [
      "Минимальное количество встреч:   62\n"
     ]
    }
   ],
   "source": [
    "# В компании работают 1000 программистов и есть три направления разработки — фронтенд, бэкенд, искусственный интеллект.\n",
    "# Менеджер должен распределить программистов на эти три направления, ему известно, что по направлению фронтенд нужно\n",
    "# сделать 25000 задач, по направлению бэкенд — 4000, а по направлению искусственный интеллект — 1000.\n",
    "# Переводить программистов между направлениями нельзя.\n",
    "# Один программист делает одну любую задачу своего направления за одну неделю. \n",
    "# Каждую неделю каждое направление, которое еще не сделало все свои задачи, проводит встречу с менеджером.\n",
    "# Менеджер хочет минимизировать количество своих встреч. \n",
    "# Сколько встреч проведет мененджер?\n",
    "\n",
    "def num_vstrech_fun(x1,x2,x3):\n",
    "    num_vstrech = (25000/x1)//1 + (4000/x2)//1 + (1000/x3)//1\n",
    "    return int(num_vstrech)\n",
    "\n",
    "mass = []\n",
    "for x1 in range(1,1001,1):\n",
    "    for x2 in range(1,1001-x1,1):\n",
    "        for x3 in range(1,1001-x1-x2,1):\n",
    "            if(x1+x2+x3 == 1000):\n",
    "                mass.append(num_vstrech_fun(x1,x2,x3))\n",
    "\n",
    "print(\"Минимальное количество встреч:  \", min(mass))"
   ]
  },
  {
   "cell_type": "code",
   "execution_count": null,
   "metadata": {},
   "outputs": [],
   "source": []
  }
 ],
 "metadata": {
  "kernelspec": {
   "display_name": "Python 3",
   "language": "python",
   "name": "python3"
  },
  "language_info": {
   "codemirror_mode": {
    "name": "ipython",
    "version": 3
   },
   "file_extension": ".py",
   "mimetype": "text/x-python",
   "name": "python",
   "nbconvert_exporter": "python",
   "pygments_lexer": "ipython3",
   "version": "3.7.1"
  }
 },
 "nbformat": 4,
 "nbformat_minor": 4
}
