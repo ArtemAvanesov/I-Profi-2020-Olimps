{
 "cells": [
  {
   "cell_type": "code",
   "execution_count": 2,
   "metadata": {},
   "outputs": [
    {
     "name": "stdout",
     "output_type": "stream",
     "text": [
      "Полная вероятность:  1.0\n",
      "0.68256\n",
      "0.68256\n",
      "0.09 0.010000000000000002 0.36\n",
      "0.54\n"
     ]
    }
   ],
   "source": [
    "# Вася нашел в интернете 5 программ, который классифицируют письма на \"Спам\"и \"Не спам\". \n",
    "# Каждый классификатор определяет категорию правильно в 60 процентах случаях, причем независимо от других. \n",
    "# Вася сделал классификатор, который запускает каждый из модулей и классифицирует письмо так, как его\n",
    "# классифицировало хотя бы 3 из 5.\n",
    "# Найдите точность его классификации x. В ответ запишите x, округленный до 5 цифр после запятой.\n",
    "# (цифра 5 округляется в большую сторону, 0.12345→0.12346)\n",
    "\n",
    "def anti(p):\n",
    "    return 1 - p\n",
    "\n",
    "p1, p2, p3, p4, p5 = 0.6, 0.6, 0.6, 0.6, 0.6\n",
    "\n",
    "# угадает хотя бы 3 из 5\n",
    "# т.е 1 - никто не угадает, угадает 1, угадает 2\n",
    "\n",
    "# никто не угадает - независимые события - умножение\n",
    "p_no_one = anti(p1) * anti(p2) * anti(p3) * anti(p4) * anti(p5)\n",
    "# p_no_one = anti(p1)**5\n",
    "\n",
    "# угадает один только - или первый, или второй, или третий, или четвертый, или пятый - или это сложение\n",
    "p_1_right = p1 * anti(p2) * anti(p3) * anti(p4) * anti(p5)\n",
    "p_1_right+= anti(p1) * p2 * anti(p3) * anti(p4) * anti(p5)\n",
    "p_1_right+= anti(p1) * anti(p2) * p3 * anti(p4) * anti(p5)\n",
    "p_1_right+= anti(p1) * anti(p2) * anti(p3) * p4 * anti(p5)\n",
    "p_1_right+= anti(p1) * anti(p2) * anti(p3) * anti(p4) * p5\n",
    "# p_1_right = p1 * anti(p1)**4 * 5\n",
    "\n",
    "# угадает только 2 - 10 вариантов \n",
    "p_2_right = p1**2 * anti(p1)**3 * 10\n",
    "\n",
    "\n",
    "#угадают 3 - 10 вариантов\n",
    "p_3_right = p1**3 * anti(p1)**2 * 10\n",
    "\n",
    "#угадают 4-ро - т.е. один не угадает - 5 вариантов\n",
    "p_4_right = p1**4 * anti(p1) * 5\n",
    "\n",
    "#угадают все\n",
    "p_5_right = p1**5\n",
    "\n",
    "print(\"Полная вероятность: \", p_no_one+p_1_right+p_2_right+p_3_right+p_4_right+p_5_right) # полная вероятность = 1\n",
    "\n",
    "print(1 - p_1_right - p_no_one - p_2_right)\n",
    "print(p_3_right+p_4_right+p_5_right)\n",
    "\n",
    "a = 15\n",
    "b = 5\n",
    "c = 30\n",
    "\n",
    "d = a+b+c\n",
    "print((a/d)**2, (b/d)**2, (c/d)**2)\n",
    "print(1 - ((a/d)**2 + (b/d)**2 + (c/d)**2))\n",
    "# Ответ 0.068256"
   ]
  },
  {
   "cell_type": "code",
   "execution_count": null,
   "metadata": {},
   "outputs": [],
   "source": []
  }
 ],
 "metadata": {
  "kernelspec": {
   "display_name": "Python 3",
   "language": "python",
   "name": "python3"
  },
  "language_info": {
   "codemirror_mode": {
    "name": "ipython",
    "version": 3
   },
   "file_extension": ".py",
   "mimetype": "text/x-python",
   "name": "python",
   "nbconvert_exporter": "python",
   "pygments_lexer": "ipython3",
   "version": "3.7.1"
  }
 },
 "nbformat": 4,
 "nbformat_minor": 4
}
