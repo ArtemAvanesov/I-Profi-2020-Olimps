{
 "cells": [
  {
   "cell_type": "code",
   "execution_count": 1,
   "metadata": {},
   "outputs": [
    {
     "name": "stdout",
     "output_type": "stream",
     "text": [
      "True\n"
     ]
    }
   ],
   "source": [
    "# Лабиринт представляет собой клетчатый квадрат 10 на 10, в некоторых клетках стоят препятствия,\n",
    "# а в одной клетке находится выход. Робот находится в таком лабиринте и может выполнять\n",
    "# 4 команды — D,U,R,L: сдвинуться на одну клетку вниз, вверх, вправо или влево. Если робот пытается\n",
    "# выйти за границы лабиринта или перейти в клетку с препятствием, то он остается на месте. Если робот\n",
    "# попадает в выход, то он выходит из лабиринта и дальнейшие команды игнорирует. Напишите программу для\n",
    "# робота, исполняя которую робот в любом случае доберется до выхода вне зависимости от клетки, в которой\n",
    "# он находился вначале. Программа должна состоять из не более чем 1000 команд.\n",
    "# Строка из символов U,D,R,L — последовательность команд для робота. \n",
    "# Ответ нужно внести без пробелов или знаков препинания. Например: UDRL\n",
    "\n",
    "# Лабиринт\n",
    "maze = [ [1,1,1,1,1,1,1,1,1,1,1,1],\n",
    "        [1,0,1,0,0,0,1,0,0,0,1,1],\n",
    "        [1,0,1,0,1,0,1,1,1,0,1,1],\n",
    "        [1,0,1,0,1,9,0,0,0,0,0,1],\n",
    "        [1,0,1,0,1,1,0,1,0,0,0,1],\n",
    "        [1,0,1,0,0,1,1,1,0,1,1,1],\n",
    "        [1,0,1,1,1,1,0,1,0,0,0,1],\n",
    "        [1,0,0,0,0,0,0,1,0,1,1,1],\n",
    "        [1,0,1,1,1,1,0,0,0,1,0,1],\n",
    "        [1,0,0,1,1,0,0,1,0,1,0,1],\n",
    "        [1,1,0,0,0,0,1,1,0,0,0,1],\n",
    "        [1,1,1,1,1,1,1,1,1,1,1,1]]\n",
    "\n",
    "# Проверка правильности пути\n",
    "def print_maze(maze, position = [-1,-1]):\n",
    "    for i in range(len(maze)):\n",
    "        for j in range(len(maze[i])):\n",
    "            if (i == position[0] and j == position[1]):\n",
    "                print(\"R\", end='')\n",
    "                continue\n",
    "            if maze[i][j] == 0:\n",
    "                print(\" \",end=\"\")\n",
    "                continue\n",
    "            if maze[i][j] == 1: \n",
    "                print(\"#\", end ='')\n",
    "                continue\n",
    "            if maze[i][j] == 9:\n",
    "                print(\"X\",  end='')   \n",
    "        print()         \n",
    "\n",
    "def get_starts(maze):\n",
    "    starts = []\n",
    "    for i in range(len(maze)):\n",
    "        for j in range(len(maze[i])):\n",
    "            if maze[i][j] == 0:\n",
    "                starts.append([i,j])   \n",
    "    return starts\n",
    "\n",
    "def comands(maze, comand_string):\n",
    "    comands_list = list(comand_string)\n",
    "    starts = get_starts(maze)\n",
    "    all = len(starts)\n",
    "    good = 0\n",
    "    for current_point in starts:\n",
    "        for current_comand in comands_list:\n",
    "            if current_comand == \"R\":\n",
    "                if maze[current_point[0]][current_point[1]+1] != 1:\n",
    "                    current_point[1] += 1\n",
    "            if current_comand == \"L\":\n",
    "                if maze[current_point[0]][current_point[1]-1] != 1:\n",
    "                    current_point[1] -= 1\n",
    "            if current_comand == \"U\":\n",
    "                if maze[current_point[0]-1][current_point[1]] != 1:\n",
    "                    current_point[0] -= 1\n",
    "            if current_comand == \"D\":\n",
    "                if maze[current_point[0]+1][current_point[1]] != 1:\n",
    "                    current_point[0] += 1\n",
    "            if maze[current_point[0]][current_point[1]] == 9:\n",
    "                good += 1\n",
    "                break          \n",
    "    print(good == all)\n",
    "\n",
    "comands(maze, \"RRRRRDDDDDDDDRDLDLDLDDDDDLUUUUUUULLLUURRRRRDDURRUUUUULLL\")"
   ]
  },
  {
   "cell_type": "code",
   "execution_count": null,
   "metadata": {},
   "outputs": [],
   "source": []
  }
 ],
 "metadata": {
  "kernelspec": {
   "display_name": "Python 3",
   "language": "python",
   "name": "python3"
  },
  "language_info": {
   "codemirror_mode": {
    "name": "ipython",
    "version": 3
   },
   "file_extension": ".py",
   "mimetype": "text/x-python",
   "name": "python",
   "nbconvert_exporter": "python",
   "pygments_lexer": "ipython3",
   "version": "3.7.1"
  }
 },
 "nbformat": 4,
 "nbformat_minor": 4
}
