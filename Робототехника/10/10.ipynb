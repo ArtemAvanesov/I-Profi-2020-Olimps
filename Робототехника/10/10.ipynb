{
 "cells": [
  {
   "cell_type": "code",
   "execution_count": 2,
   "metadata": {},
   "outputs": [
    {
     "name": "stdout",
     "output_type": "stream",
     "text": [
      "Done!\n"
     ]
    }
   ],
   "source": [
    "# Написать программу с использованием C, C++, Python, реализующую расчет коэффициентов\n",
    "# полинома третьей степени для планирования траектории перехода из начального состояния\n",
    "# звена в конечное, когда траектория задания представляет собой функцию вида:\n",
    "# q(t)=a0+a1*t+a2*t^2+a3*t^3\n",
    "# Начальные и конечные состояния задаются сочетанием: \n",
    "# Координата – q, скорость – ̇q.\n",
    "# На вход подается последовательность из 5 чисел, разделенных пробелом:\n",
    "# q(0),̇q(0),q(T),̇q(T),10>T>0\n",
    "# На выходе требуется вывести коэффициенты аппрокцимации полинома в виде последовательности\n",
    "# из 4 чисел, разделенных пробелами, с точностью до второго знака после запятой:\n",
    "# a0,a1,a2,a3\n",
    "# Пример:\n",
    "# Ввод:\n",
    "# 0 0 1 0 1\n",
    "# Вывод:\n",
    "# 0.00 0.00 3.00 -2.00\n",
    "\n",
    "f=open(\"input.txt\")\n",
    "one=f.read().split(\" \")\n",
    "\n",
    "for i in range(len(one)):\n",
    "    one[i] = int(one[i])\n",
    "\n",
    "a = [0, 0, 0, 0] \n",
    "a[0] = one[0]\n",
    "a[1] = one[1]\n",
    "a[3] = (one[3]-one[1]*(one[4]**2)-2*one[2]+2*one[0]+2*one[4]*one[1])/(one[4]**3)\n",
    "a[2] = (one[2]-one[0]-one[4]*one[1]-a[3]*(one[4]**3))/(one[4]**2)\n",
    "\n",
    "f=open(\"output.txt\",'w')\n",
    "for item in a:\n",
    "    f.write(\"%.2f \" % item)\n",
    "f.close()\n",
    "print(\"Done!\")"
   ]
  },
  {
   "cell_type": "code",
   "execution_count": null,
   "metadata": {},
   "outputs": [],
   "source": []
  }
 ],
 "metadata": {
  "kernelspec": {
   "display_name": "Python 3",
   "language": "python",
   "name": "python3"
  },
  "language_info": {
   "codemirror_mode": {
    "name": "ipython",
    "version": 3
   },
   "file_extension": ".py",
   "mimetype": "text/x-python",
   "name": "python",
   "nbconvert_exporter": "python",
   "pygments_lexer": "ipython3",
   "version": "3.7.1"
  }
 },
 "nbformat": 4,
 "nbformat_minor": 4
}
